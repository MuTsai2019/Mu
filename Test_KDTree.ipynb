{
 "cells": [
  {
   "cell_type": "code",
   "execution_count": 35,
   "metadata": {},
   "outputs": [],
   "source": [
    "import numpy as np\n",
    "from matplotlib import pyplot as plt\n",
    "from matplotlib.patches import Circle\n",
    "from sklearn.neighbors import KDTree\n",
    "from sklearn.neighbors import NearestNeighbors"
   ]
  },
  {
   "cell_type": "code",
   "execution_count": 20,
   "metadata": {},
   "outputs": [],
   "source": [
    "np.random.seed(0)\n",
    "points = np.random.random((100, 2))#2D,100 times\n",
    "tree = KDTree(points)\n",
    "point = points[0]"
   ]
  },
  {
   "cell_type": "code",
   "execution_count": 21,
   "metadata": {},
   "outputs": [
    {
     "data": {
      "text/plain": [
       "array([0.5488135 , 0.71518937])"
      ]
     },
     "execution_count": 21,
     "metadata": {},
     "output_type": "execute_result"
    }
   ],
   "source": [
    "point"
   ]
  },
  {
   "cell_type": "code",
   "execution_count": 32,
   "metadata": {
    "scrolled": false
   },
   "outputs": [
    {
     "name": "stdout",
     "output_type": "stream",
     "text": [
      "[[0.         0.06703304 0.10907128 0.11687068 0.12597086 0.12608646\n",
      "  0.12610313 0.14306129 0.14933122 0.16568409 0.16600898 0.17356156\n",
      "  0.1786471 ]] [[ 0 68 11 18 93 22 67  2 53 62 55 16  1]]\n"
     ]
    }
   ],
   "source": [
    "#  kdt\n",
    "dists, indices = tree.query([point], k=13)\n",
    "print(dists, indices)"
   ]
  },
  {
   "cell_type": "code",
   "execution_count": 26,
   "metadata": {},
   "outputs": [
    {
     "name": "stdout",
     "output_type": "stream",
     "text": [
      "[array([62,  1, 67, 68,  2, 53, 16, 18, 93, 22, 55,  0, 11], dtype=int64)]\n"
     ]
    }
   ],
   "source": [
    "# query radius\n",
    "indices = tree.query_radius([point], r=0.2)\n",
    "print(indices)"
   ]
  },
  {
   "cell_type": "code",
   "execution_count": 10,
   "metadata": {},
   "outputs": [
    {
     "data": {
      "image/png": "[encoded data removed]",
      "text/plain": [
       "<Figure size 432x288 with 1 Axes>"
      ]
     },
     "metadata": {
      "needs_background": "light"
     },
     "output_type": "display_data"
    }
   ],
   "source": [
    "fig = plt.figure()\n",
    "ax = fig.add_subplot(111, aspect='equal')\n",
    "ax.add_patch(Circle(point, 0.2, color='r', fill=False))\n",
    "X, Y = [p[0] for p in points], [p[1] for p in points]\n",
    "plt.scatter(X, Y)\n",
    "plt.scatter([point[0]], [point[1]], c='r')\n",
    "plt.show()"
   ]
  },
  {
   "cell_type": "code",
   "execution_count": 37,
   "metadata": {},
   "outputs": [
    {
     "data": {
      "text/plain": [
       "array([[ 0, 68],\n",
       "       [ 1, 53],\n",
       "       [ 2, 62],\n",
       "       [ 3, 71],\n",
       "       [ 4, 70],\n",
       "       [ 5, 78],\n",
       "       [ 6, 44],\n",
       "       [ 7, 30],\n",
       "       [ 8, 77],\n",
       "       [ 9, 81],\n",
       "       [10, 82],\n",
       "       [11, 55],\n",
       "       [12, 90],\n",
       "       [13, 96],\n",
       "       [14, 25],\n",
       "       [15, 45],\n",
       "       [16, 62],\n",
       "       [17, 41],\n",
       "       [18, 53],\n",
       "       [19, 61],\n",
       "       [20, 40],\n",
       "       [21, 89],\n",
       "       [22, 18],\n",
       "       [23, 27],\n",
       "       [24, 40],\n",
       "       [25, 65],\n",
       "       [26, 34],\n",
       "       [27, 23],\n",
       "       [28, 50],\n",
       "       [29, 95],\n",
       "       [30, 23],\n",
       "       [31, 84],\n",
       "       [32, 66],\n",
       "       [33, 34],\n",
       "       [34, 33],\n",
       "       [35,  4],\n",
       "       [36, 92],\n",
       "       [37, 89],\n",
       "       [38, 39],\n",
       "       [39, 38],\n",
       "       [40, 20],\n",
       "       [41, 46],\n",
       "       [42, 91],\n",
       "       [43, 85],\n",
       "       [44,  6],\n",
       "       [45,  2],\n",
       "       [46, 41],\n",
       "       [47, 38],\n",
       "       [48, 85],\n",
       "       [49, 34],\n",
       "       [50, 64],\n",
       "       [51, 74],\n",
       "       [52, 76],\n",
       "       [53, 67],\n",
       "       [54, 96],\n",
       "       [55,  3],\n",
       "       [56, 94],\n",
       "       [57, 70],\n",
       "       [58, 92],\n",
       "       [59, 19],\n",
       "       [60, 97],\n",
       "       [61, 92],\n",
       "       [62,  2],\n",
       "       [63, 83],\n",
       "       [64, 50],\n",
       "       [65, 69],\n",
       "       [66, 32],\n",
       "       [67, 53],\n",
       "       [68, 18],\n",
       "       [69, 65],\n",
       "       [70,  4],\n",
       "       [71,  3],\n",
       "       [72, 59],\n",
       "       [73, 13],\n",
       "       [74, 51],\n",
       "       [75, 77],\n",
       "       [76, 90],\n",
       "       [77, 75],\n",
       "       [78,  5],\n",
       "       [79, 85],\n",
       "       [80, 69],\n",
       "       [81,  9],\n",
       "       [82, 10],\n",
       "       [83, 63],\n",
       "       [84, 31],\n",
       "       [85, 43],\n",
       "       [86, 30],\n",
       "       [87, 84],\n",
       "       [88, 71],\n",
       "       [89, 21],\n",
       "       [90, 76],\n",
       "       [91, 42],\n",
       "       [92, 61],\n",
       "       [93, 67],\n",
       "       [94, 56],\n",
       "       [95, 29],\n",
       "       [96, 54],\n",
       "       [97, 60],\n",
       "       [98, 47],\n",
       "       [99, 83]], dtype=int64)"
      ]
     },
     "execution_count": 37,
     "metadata": {},
     "output_type": "execute_result"
    }
   ],
   "source": [
    "nbrs = NearestNeighbors(n_neighbors=2, algorithm='ball_tree').fit(points)\n",
    "distances, indices = nbrs.kneighbors(points)\n",
    "indices"
   ]
  },
  {
   "cell_type": "code",
   "execution_count": 38,
   "metadata": {},
   "outputs": [
    {
     "data": {
      "text/plain": [
       "array([[0.        , 0.06703304],\n",
       "       [0.        , 0.02939382],\n",
       "       [0.        , 0.03950141],\n",
       "       [0.        , 0.00172884],\n",
       "       [0.        , 0.06896914],\n",
       "       [0.        , 0.04312399],\n",
       "       [0.        , 0.0087251 ],\n",
       "       [0.        , 0.09095424],\n",
       "       [0.        , 0.1047382 ],\n",
       "       [0.        , 0.05621846],\n",
       "       [0.        , 0.05672937],\n",
       "       [0.        , 0.06742511],\n",
       "       [0.        , 0.04994919],\n",
       "       [0.        , 0.04284074],\n",
       "       [0.        , 0.05395068],\n",
       "       [0.        , 0.11970238],\n",
       "       [0.        , 0.04983865],\n",
       "       [0.        , 0.08750909],\n",
       "       [0.        , 0.04897595],\n",
       "       [0.        , 0.03979048],\n",
       "       [0.        , 0.04735745],\n",
       "       [0.        , 0.02918574],\n",
       "       [0.        , 0.07663565],\n",
       "       [0.        , 0.03241821],\n",
       "       [0.        , 0.05061674],\n",
       "       [0.        , 0.04881914],\n",
       "       [0.        , 0.15054641],\n",
       "       [0.        , 0.03241821],\n",
       "       [0.        , 0.02983174],\n",
       "       [0.        , 0.07636827],\n",
       "       [0.        , 0.05465748],\n",
       "       [0.        , 0.08089884],\n",
       "       [0.        , 0.09325459],\n",
       "       [0.        , 0.01698132],\n",
       "       [0.        , 0.01698132],\n",
       "       [0.        , 0.08616522],\n",
       "       [0.        , 0.04351364],\n",
       "       [0.        , 0.0356156 ],\n",
       "       [0.        , 0.0134139 ],\n",
       "       [0.        , 0.0134139 ],\n",
       "       [0.        , 0.04735745],\n",
       "       [0.        , 0.0717331 ],\n",
       "       [0.        , 0.02947885],\n",
       "       [0.        , 0.03966422],\n",
       "       [0.        , 0.0087251 ],\n",
       "       [0.        , 0.10726595],\n",
       "       [0.        , 0.0717331 ],\n",
       "       [0.        , 0.06333951],\n",
       "       [0.        , 0.07388418],\n",
       "       [0.        , 0.09184543],\n",
       "       [0.        , 0.02672201],\n",
       "       [0.        , 0.04222392],\n",
       "       [0.        , 0.09483332],\n",
       "       [0.        , 0.02888133],\n",
       "       [0.        , 0.03782775],\n",
       "       [0.        , 0.04635622],\n",
       "       [0.        , 0.03390371],\n",
       "       [0.        , 0.08766475],\n",
       "       [0.        , 0.06236662],\n",
       "       [0.        , 0.06293098],\n",
       "       [0.        , 0.01795692],\n",
       "       [0.        , 0.0371448 ],\n",
       "       [0.        , 0.03950141],\n",
       "       [0.        , 0.05888019],\n",
       "       [0.        , 0.02672201],\n",
       "       [0.        , 0.03419067],\n",
       "       [0.        , 0.09325459],\n",
       "       [0.        , 0.02888133],\n",
       "       [0.        , 0.05236307],\n",
       "       [0.        , 0.03419067],\n",
       "       [0.        , 0.06896914],\n",
       "       [0.        , 0.00172884],\n",
       "       [0.        , 0.07639032],\n",
       "       [0.        , 0.04994233],\n",
       "       [0.        , 0.04222392],\n",
       "       [0.        , 0.03258125],\n",
       "       [0.        , 0.0063149 ],\n",
       "       [0.        , 0.03258125],\n",
       "       [0.        , 0.04312399],\n",
       "       [0.        , 0.11481496],\n",
       "       [0.        , 0.05043693],\n",
       "       [0.        , 0.05621846],\n",
       "       [0.        , 0.05672937],\n",
       "       [0.        , 0.05888019],\n",
       "       [0.        , 0.08089884],\n",
       "       [0.        , 0.03966422],\n",
       "       [0.        , 0.10059944],\n",
       "       [0.        , 0.08242189],\n",
       "       [0.        , 0.09746817],\n",
       "       [0.        , 0.02918574],\n",
       "       [0.        , 0.0063149 ],\n",
       "       [0.        , 0.02947885],\n",
       "       [0.        , 0.0371448 ],\n",
       "       [0.        , 0.0343456 ],\n",
       "       [0.        , 0.03390371],\n",
       "       [0.        , 0.07636827],\n",
       "       [0.        , 0.03782775],\n",
       "       [0.        , 0.01795692],\n",
       "       [0.        , 0.09437911],\n",
       "       [0.        , 0.08767089]])"
      ]
     },
     "execution_count": 38,
     "metadata": {},
     "output_type": "execute_result"
    }
   ],
   "source": [
    "distances"
   ]
  },
  {
   "cell_type": "code",
   "execution_count": 39,
   "metadata": {},
   "outputs": [
    {
     "data": {
      "text/plain": [
       "array([[1., 0., 0., ..., 0., 0., 0.],\n",
       "       [0., 1., 0., ..., 0., 0., 0.],\n",
       "       [0., 0., 1., ..., 0., 0., 0.],\n",
       "       ...,\n",
       "       [0., 0., 0., ..., 1., 0., 0.],\n",
       "       [0., 0., 0., ..., 0., 1., 0.],\n",
       "       [0., 0., 0., ..., 0., 0., 1.]])"
      ]
     },
     "execution_count": 39,
     "metadata": {},
     "output_type": "execute_result"
    }
   ],
   "source": [
    "nbrs.kneighbors_graph(points).toarray()"
   ]
  },
  {
   "cell_type": "code",
   "execution_count": null,
   "metadata": {},
   "outputs": [],
   "source": []
  }
 ],
 "metadata": {
  "kernelspec": {
   "display_name": "Python 3",
   "language": "python",
   "name": "python3"
  },
  "language_info": {
   "codemirror_mode": {
    "name": "ipython",
    "version": 3
   },
   "file_extension": ".py",
   "mimetype": "text/x-python",
   "name": "python",
   "nbconvert_exporter": "python",
   "pygments_lexer": "ipython3",
   "version": "3.7.1"
  }
 },
 "nbformat": 4,
 "nbformat_minor": 2
}
